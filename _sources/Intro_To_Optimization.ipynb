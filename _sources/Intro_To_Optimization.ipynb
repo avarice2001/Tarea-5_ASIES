{
 "cells": [
  {
   "cell_type": "markdown",
   "id": "e94c1246",
   "metadata": {
    "id": "e94c1246"
   },
   "source": [
    "<img src=\"https://i.imgur.com/6U6q5jQ.png\"/>\n",
    "\n",
    "_____\n",
    "<a id='home'></a>\n",
    "\n",
    "<a target=\"_blank\" href=\"https://colab.research.google.com/github/SocialAnalytics-StrategicIntelligence/introOptimization/blob/main/Intro_To_Optimization.ipynb\">\n",
    "  <img src=\"https://colab.research.google.com/assets/colab-badge.svg\" alt=\"Open In Colab\"/>\n",
    "</a>\n",
    "\n",
    "\n",
    "# Introduction to Optimization for Decision Making\n"
   ]
  },
  {
   "cell_type": "code",
   "execution_count": 1,
   "id": "4e38af10",
   "metadata": {
    "id": "4e38af10",
    "scrolled": true
   },
   "outputs": [
    {
     "data": {
      "text/html": [
       "<iframe src=\"https://docs.google.com/presentation/d/e/2PACX-1vQHq0p2eTmxRWJjDmo1mUmdarYgIrEew4ieiVbIGQy-D_CyBw5rbbRUlRxwLKKaVQpRV9Hs8MGnz0X2/embed?start=false&loop=false&delayms=3000\" frameborder=\"1\" width=\"960\" height=\"569\" allowfullscreen=\"true\" mozallowfullscreen=\"true\" webkitallowfullscreen=\"true\"></iframe>\n"
      ],
      "text/plain": [
       "<IPython.core.display.HTML object>"
      ]
     },
     "metadata": {},
     "output_type": "display_data"
    }
   ],
   "source": [
    "%%html\n",
    "<iframe src=\"https://docs.google.com/presentation/d/e/2PACX-1vQHq0p2eTmxRWJjDmo1mUmdarYgIrEew4ieiVbIGQy-D_CyBw5rbbRUlRxwLKKaVQpRV9Hs8MGnz0X2/embed?start=false&loop=false&delayms=3000\" frameborder=\"1\" width=\"960\" height=\"569\" allowfullscreen=\"true\" mozallowfullscreen=\"true\" webkitallowfullscreen=\"true\"></iframe>"
   ]
  },
  {
   "cell_type": "markdown",
   "id": "869a5ade-2e6f-4ccd-8fd6-b4f276cff22f",
   "metadata": {
    "id": "869a5ade-2e6f-4ccd-8fd6-b4f276cff22f"
   },
   "source": [
    "# Part 1: Maximization/Minimization"
   ]
  },
  {
   "cell_type": "markdown",
   "id": "1f02e23b",
   "metadata": {
    "id": "1f02e23b"
   },
   "source": [
    "Please, go to your _environment_ in Anacoda Navigator to install **glpk** and **pulp**  before runing the codes below.\n",
    "Then, call the library:"
   ]
  },
  {
   "cell_type": "code",
   "execution_count": 7,
   "id": "2d2e3d99-7100-4941-aad8-57b178798e94",
   "metadata": {
    "id": "2d2e3d99-7100-4941-aad8-57b178798e94"
   },
   "outputs": [
    {
     "name": "stdout",
     "output_type": "stream",
     "text": [
      "Name: PuLP\n",
      "Version: 2.8.0\n",
      "Summary: PuLP is an LP modeler written in python. PuLP can generate MPS or LP files and call GLPK, COIN CLP/CBC, CPLEX, and GUROBI to solve linear problems.\n",
      "Home-page: https://github.com/coin-or/pulp\n",
      "Author: J.S. Roy and S.A. Mitchell and F. Peschiera\n",
      "Author-email: pulp@stuartmitchell.com\n",
      "License: \n",
      "Location: C:\\Users\\user\\anaconda3\\Lib\\site-packages\n",
      "Requires: \n",
      "Required-by: \n",
      "Note: you may need to restart the kernel to use updated packages.\n"
     ]
    },
    {
     "name": "stderr",
     "output_type": "stream",
     "text": [
      "WARNING: Package(s) not found: glpk\n"
     ]
    }
   ],
   "source": [
    "pip show glpk pulp"
   ]
  },
  {
   "cell_type": "code",
   "execution_count": 15,
   "id": "4dc3b77f-90a2-4576-9428-efcd064a161a",
   "metadata": {},
   "outputs": [
    {
     "name": "stdout",
     "output_type": "stream",
     "text": [
      "Requirement already satisfied: pulp in c:\\users\\user\\anaconda3\\lib\\site-packages (2.8.0)\n",
      "Note: you may need to restart the kernel to use updated packages.\n"
     ]
    }
   ],
   "source": [
    "pip install pulp"
   ]
  },
  {
   "cell_type": "code",
   "execution_count": 17,
   "id": "a105dc9b-d105-49d3-8093-96d03eca9530",
   "metadata": {
    "id": "a105dc9b-d105-49d3-8093-96d03eca9530"
   },
   "outputs": [],
   "source": [
    "import pulp as pp"
   ]
  },
  {
   "cell_type": "markdown",
   "id": "dd461c8a-8a20-4a93-aa9e-2b46c1deaf52",
   "metadata": {
    "id": "dd461c8a-8a20-4a93-aa9e-2b46c1deaf52"
   },
   "source": [
    "1. **Initialize the MODEL**: just write the name and declare if it is maximization or minimization problem type."
   ]
  },
  {
   "cell_type": "code",
   "execution_count": 19,
   "id": "4436e0c7",
   "metadata": {
    "id": "4436e0c7"
   },
   "outputs": [],
   "source": [
    "model = pp.LpProblem(name='refinery-problem', # just the name\n",
    "                     sense=pp.LpMaximize) # type of problem"
   ]
  },
  {
   "cell_type": "markdown",
   "id": "c001fd3a-190b-45d8-9fa3-c3e21578fa03",
   "metadata": {
    "id": "c001fd3a-190b-45d8-9fa3-c3e21578fa03"
   },
   "source": [
    "2. **Declare the VARIABLES**: The refinery model consists of these _variables_:"
   ]
  },
  {
   "cell_type": "code",
   "execution_count": 21,
   "id": "8533e838-9e02-4ca8-85ef-de557cb1dd7c",
   "metadata": {
    "id": "8533e838-9e02-4ca8-85ef-de557cb1dd7c"
   },
   "outputs": [],
   "source": [
    "# how much gas?\n",
    "Gas = pp.LpVariable(name=\"Gas\",  # just the name\n",
    "                    lowBound=0,  # ensure non-negativity\n",
    "                    cat='Continuous') # here: you accept decimal values\n",
    "\n",
    "# how much oil?\n",
    "Oil = pp.LpVariable(name=\"Oil\",\n",
    "                 lowBound=0,\n",
    "                 cat='Continuous')"
   ]
  },
  {
   "cell_type": "markdown",
   "id": "611438aa-54e1-4cdd-aa77-44702feb498a",
   "metadata": {
    "id": "611438aa-54e1-4cdd-aa77-44702feb498a"
   },
   "source": [
    "3. **Create function to OPTIMIZE**: The function is just the linear combination of the variables and their _given coefficients__:"
   ]
  },
  {
   "cell_type": "code",
   "execution_count": 23,
   "id": "e676c256-353d-4fbd-a206-6914f29ff8ba",
   "metadata": {
    "id": "e676c256-353d-4fbd-a206-6914f29ff8ba"
   },
   "outputs": [],
   "source": [
    "GasCoeff=1.9\n",
    "OilCoeff=1.5\n",
    "obj_func = GasCoeff*Gas + OilCoeff*Oil"
   ]
  },
  {
   "cell_type": "markdown",
   "id": "65a5c48f-d28c-489a-bcd4-f97be76b57c7",
   "metadata": {
    "id": "65a5c48f-d28c-489a-bcd4-f97be76b57c7"
   },
   "source": [
    "4. **Represent the constraints**: These are the rules the model (set of variables) must obey:"
   ]
  },
  {
   "cell_type": "code",
   "execution_count": 25,
   "id": "c24146f7-5db5-4606-90fd-9bc010685754",
   "metadata": {
    "id": "c24146f7-5db5-4606-90fd-9bc010685754"
   },
   "outputs": [],
   "source": [
    "# SUBJECT TO:\n",
    "C1= pp.LpConstraint(name='Gas Constraint',   # just the name\n",
    "                    e= 1*Gas - 2*Oil, rhs=0, # linear combination of constraint and rhs\n",
    "                    sense=pp.LpConstraintGE) # 'rule' >= 0 (LpConstraintGE)\n",
    "C2= pp.LpConstraint(name='Oil Constraint',\n",
    "                    e= 1*Oil, rhs=3000000,\n",
    "                    sense=pp.LpConstraintGE) # 'rule' >= 3000000 (LpConstraintGE)\n",
    "C3= pp.LpConstraint(name='Demand Constraint',\n",
    "                    e= 1*Gas, rhs=6400000,\n",
    "                    sense=pp.LpConstraintLE, )# 'rule' <= 6400000 (LpConstraintLE)"
   ]
  },
  {
   "cell_type": "markdown",
   "id": "10465ba5-03d5-41d0-9e65-b4c13d8a8728",
   "metadata": {
    "id": "10465ba5-03d5-41d0-9e65-b4c13d8a8728"
   },
   "source": [
    "5. **Build MODEL**: Here you add (i) the objective function, and (ii) all the constraints:"
   ]
  },
  {
   "cell_type": "code",
   "execution_count": 27,
   "id": "44dd2783-49c1-44fd-952b-47743c9d4686",
   "metadata": {
    "id": "44dd2783-49c1-44fd-952b-47743c9d4686"
   },
   "outputs": [],
   "source": [
    "model += obj_func\n",
    "model += C1\n",
    "model += C2\n",
    "model += C3"
   ]
  },
  {
   "cell_type": "markdown",
   "id": "2a332886-694b-40d8-98d3-e27066b28e96",
   "metadata": {
    "id": "2a332886-694b-40d8-98d3-e27066b28e96"
   },
   "source": [
    "6. **Solve the MODEL**: Notice we are not using the _default solver_, we are explicitly usig **COIN_CMD**:"
   ]
  },
  {
   "cell_type": "code",
   "execution_count": 29,
   "id": "531d75fa-6e19-4ef4-9170-31aef8b88fa0",
   "metadata": {
    "id": "531d75fa-6e19-4ef4-9170-31aef8b88fa0"
   },
   "outputs": [
    {
     "name": "stdout",
     "output_type": "stream",
     "text": [
      "['GLPK_CMD', 'PYGLPK', 'CPLEX_CMD', 'CPLEX_PY', 'GUROBI', 'GUROBI_CMD', 'MOSEK', 'XPRESS', 'XPRESS', 'XPRESS_PY', 'PULP_CBC_CMD', 'COIN_CMD', 'COINMP_DLL', 'CHOCO_CMD', 'MIPCL_CMD', 'SCIP_CMD', 'FSCIP_CMD', 'SCIP_PY', 'HiGHS', 'HiGHS_CMD', 'COPT', 'COPT_DLL', 'COPT_CMD']\n"
     ]
    }
   ],
   "source": [
    "solver_list = pp.listSolvers()\n",
    "print(solver_list)"
   ]
  },
  {
   "cell_type": "code",
   "execution_count": 47,
   "id": "636442d1-a48c-4a3a-a84d-9f2312f3d473",
   "metadata": {
    "id": "636442d1-a48c-4a3a-a84d-9f2312f3d473"
   },
   "outputs": [],
   "source": [
    "solverToUse = pp.COIN_CMD(path=\"D:/2024-1/Herramientas cuantitativas/Tarea 5/bin/cbc.exe\", msg=False) \n",
    "model.solve(solver=solverToUse);"
   ]
  },
  {
   "cell_type": "markdown",
   "id": "7db07777-25b5-46c9-9d51-f1d0e3ceb709",
   "metadata": {
    "id": "7db07777-25b5-46c9-9d51-f1d0e3ceb709"
   },
   "source": [
    "You can create a summary like this:"
   ]
  },
  {
   "cell_type": "code",
   "execution_count": 51,
   "id": "3a0152d1-cdd5-4426-9ba6-90556a685048",
   "metadata": {
    "id": "3a0152d1-cdd5-4426-9ba6-90556a685048"
   },
   "outputs": [
    {
     "data": {
      "text/plain": [
       "{'Model Status': 'Optimal',\n",
       " 'Optimal Solution': 16960000.0,\n",
       " 'Gas': 6400000.0,\n",
       " 'Oil': 3200000.0}"
      ]
     },
     "execution_count": 51,
     "metadata": {},
     "output_type": "execute_result"
    }
   ],
   "source": [
    "import pandas as pd\n",
    "\n",
    "Results={\"Model Status\":pp.LpStatus[model.status]}\n",
    "Results.update({\"Optimal Solution\":pp.value(model.objective)})\n",
    "Results.update({v.name: v.varValue for v in model.variables()})\n",
    "Results"
   ]
  },
  {
   "cell_type": "code",
   "execution_count": 53,
   "id": "651fadcc-cb30-4caa-98e4-f6215c0be7a9",
   "metadata": {
    "id": "651fadcc-cb30-4caa-98e4-f6215c0be7a9"
   },
   "outputs": [
    {
     "data": {
      "text/html": [
       "<style type=\"text/css\">\n",
       "</style>\n",
       "<table id=\"T_17535\">\n",
       "  <thead>\n",
       "    <tr>\n",
       "      <th class=\"blank level0\" >&nbsp;</th>\n",
       "      <th id=\"T_17535_level0_col0\" class=\"col_heading level0 col0\" >Optimal Solution</th>\n",
       "      <th id=\"T_17535_level0_col1\" class=\"col_heading level0 col1\" >Gas</th>\n",
       "      <th id=\"T_17535_level0_col2\" class=\"col_heading level0 col2\" >Oil</th>\n",
       "    </tr>\n",
       "    <tr>\n",
       "      <th class=\"index_name level0\" >Model Status</th>\n",
       "      <th class=\"blank col0\" >&nbsp;</th>\n",
       "      <th class=\"blank col1\" >&nbsp;</th>\n",
       "      <th class=\"blank col2\" >&nbsp;</th>\n",
       "    </tr>\n",
       "  </thead>\n",
       "  <tbody>\n",
       "    <tr>\n",
       "      <th id=\"T_17535_level0_row0\" class=\"row_heading level0 row0\" >Optimal</th>\n",
       "      <td id=\"T_17535_row0_col0\" class=\"data row0 col0\" >16,960,000.0</td>\n",
       "      <td id=\"T_17535_row0_col1\" class=\"data row0 col1\" >6,400,000.0</td>\n",
       "      <td id=\"T_17535_row0_col2\" class=\"data row0 col2\" >3,200,000.0</td>\n",
       "    </tr>\n",
       "  </tbody>\n",
       "</table>\n"
      ],
      "text/plain": [
       "<pandas.io.formats.style.Styler at 0x22101976d50>"
      ]
     },
     "execution_count": 53,
     "metadata": {},
     "output_type": "execute_result"
    }
   ],
   "source": [
    "#or\n",
    "pd.DataFrame.from_dict(Results,orient='index').T.set_index('Model Status').style.format('{:,}')"
   ]
  },
  {
   "cell_type": "markdown",
   "id": "9c025230-ed6e-40b1-ae5c-03bed5c5c0b7",
   "metadata": {
    "id": "9c025230-ed6e-40b1-ae5c-03bed5c5c0b7"
   },
   "source": [
    "<div class=\"alert-success\">\n",
    "\n",
    "<strong>Exercise: The diet problem</strong>"
   ]
  },
  {
   "cell_type": "code",
   "execution_count": 55,
   "id": "a7e1cb7a",
   "metadata": {
    "id": "a7e1cb7a"
   },
   "outputs": [
    {
     "data": {
      "text/html": [
       "<iframe src=\"https://docs.google.com/presentation/d/e/2PACX-1vTSq9X74urGAB_5n_MIJ9ZGIboKSvBdokVTBXVLh_qqZnmLRTJioOF431Rzys3Qi9UaFwWXjeq6Wmd5/embed?start=false&loop=false&delayms=3000\" frameborder=\"0\" width=\"960\" height=\"569\" allowfullscreen=\"true\" mozallowfullscreen=\"true\" webkitallowfullscreen=\"true\"></iframe>\n"
      ],
      "text/plain": [
       "<IPython.core.display.HTML object>"
      ]
     },
     "metadata": {},
     "output_type": "display_data"
    }
   ],
   "source": [
    "%%html\n",
    "<iframe src=\"https://docs.google.com/presentation/d/e/2PACX-1vTSq9X74urGAB_5n_MIJ9ZGIboKSvBdokVTBXVLh_qqZnmLRTJioOF431Rzys3Qi9UaFwWXjeq6Wmd5/embed?start=false&loop=false&delayms=3000\" frameborder=\"0\" width=\"960\" height=\"569\" allowfullscreen=\"true\" mozallowfullscreen=\"true\" webkitallowfullscreen=\"true\"></iframe>"
   ]
  },
  {
   "cell_type": "markdown",
   "id": "2478f1d7-aa1c-4e6c-b404-d7faf01ab371",
   "metadata": {
    "id": "2478f1d7-aa1c-4e6c-b404-d7faf01ab371"
   },
   "source": [
    "# Part 2: Multicriteria Decision-Making"
   ]
  },
  {
   "cell_type": "code",
   "execution_count": 57,
   "id": "4bf5038e-daec-4f81-a2dd-afe31322f7e3",
   "metadata": {
    "id": "4bf5038e-daec-4f81-a2dd-afe31322f7e3"
   },
   "outputs": [
    {
     "data": {
      "text/html": [
       "<iframe src=\"https://docs.google.com/presentation/d/e/2PACX-1vR7GL_wF1eKRO0JgEUyIx5cxXUhTQ8ZM4F3AE1MLr7GYG33dwEobrLo6O2MaV2d7Cv47TaTgHghkhrV/embed?start=false&loop=false&delayms=3000\" frameborder=\"0\" width=\"960\" height=\"569\" allowfullscreen=\"true\" mozallowfullscreen=\"true\" webkitallowfullscreen=\"true\"></iframe>\n"
      ],
      "text/plain": [
       "<IPython.core.display.HTML object>"
      ]
     },
     "metadata": {},
     "output_type": "display_data"
    }
   ],
   "source": [
    "%%html\n",
    "<iframe src=\"https://docs.google.com/presentation/d/e/2PACX-1vR7GL_wF1eKRO0JgEUyIx5cxXUhTQ8ZM4F3AE1MLr7GYG33dwEobrLo6O2MaV2d7Cv47TaTgHghkhrV/embed?start=false&loop=false&delayms=3000\" frameborder=\"0\" width=\"960\" height=\"569\" allowfullscreen=\"true\" mozallowfullscreen=\"true\" webkitallowfullscreen=\"true\"></iframe>"
   ]
  },
  {
   "cell_type": "markdown",
   "id": "5cd22b7e-4d31-4cea-8cf1-81c2956c4395",
   "metadata": {
    "id": "5cd22b7e-4d31-4cea-8cf1-81c2956c4395"
   },
   "source": [
    "The following code requires the folder **ahp**, which you have to download from [here](https://github.com/gprzy/ahp), or from [here](https://github.com/SocialAnalytics-StrategicIntelligence/introOptimization/raw/main/ahp.zip). Make sure the folder with the two **.py** files are in this notebook. You need pandas and numpy previously installed."
   ]
  },
  {
   "cell_type": "code",
   "execution_count": 59,
   "id": "5809ff85-e615-4bbb-bcd2-52527b788b5a",
   "metadata": {
    "id": "5809ff85-e615-4bbb-bcd2-52527b788b5a"
   },
   "outputs": [],
   "source": [
    "# calling the function\n",
    "from ahp.ahp import AHP"
   ]
  },
  {
   "cell_type": "markdown",
   "id": "7a2cc6c1-0814-4919-add2-25b566d18cdb",
   "metadata": {
    "id": "7a2cc6c1-0814-4919-add2-25b566d18cdb"
   },
   "source": [
    "I have previously prepared the pairwise comparisons:"
   ]
  },
  {
   "cell_type": "code",
   "execution_count": 61,
   "id": "a808bc02-e456-46d7-bab0-ff357ac965c7",
   "metadata": {
    "id": "a808bc02-e456-46d7-bab0-ff357ac965c7"
   },
   "outputs": [],
   "source": [
    "import pandas as pd\n",
    "\n",
    "pairwise_age=pd.read_excel(\"ahp_tables.xlsx\",sheet_name='age', index_col=0)\n",
    "pairwise_experience=pd.read_excel(\"ahp_tables.xlsx\",sheet_name='experience', index_col=0)\n",
    "pairwise_education=pd.read_excel(\"ahp_tables.xlsx\",sheet_name='education', index_col=0)\n",
    "pairwise_charisma=pd.read_excel(\"ahp_tables.xlsx\",sheet_name='charisma', index_col=0)\n",
    "pairwise_criteria=pd.read_excel(\"ahp_tables.xlsx\",sheet_name='criteria', index_col=0)"
   ]
  },
  {
   "cell_type": "markdown",
   "id": "8d954d8f-9a42-4468-987a-f583338a3908",
   "metadata": {
    "id": "8d954d8f-9a42-4468-987a-f583338a3908"
   },
   "source": [
    "Open the *pairwise_criteria* to check the order of columns:"
   ]
  },
  {
   "cell_type": "code",
   "execution_count": 63,
   "id": "aafb3e8b-151c-457c-b8e0-4d74c8c6d062",
   "metadata": {
    "id": "aafb3e8b-151c-457c-b8e0-4d74c8c6d062"
   },
   "outputs": [
    {
     "data": {
      "text/html": [
       "<div>\n",
       "<style scoped>\n",
       "    .dataframe tbody tr th:only-of-type {\n",
       "        vertical-align: middle;\n",
       "    }\n",
       "\n",
       "    .dataframe tbody tr th {\n",
       "        vertical-align: top;\n",
       "    }\n",
       "\n",
       "    .dataframe thead th {\n",
       "        text-align: right;\n",
       "    }\n",
       "</style>\n",
       "<table border=\"1\" class=\"dataframe\">\n",
       "  <thead>\n",
       "    <tr style=\"text-align: right;\">\n",
       "      <th></th>\n",
       "      <th>Experience</th>\n",
       "      <th>Education</th>\n",
       "      <th>Charisma</th>\n",
       "      <th>Age</th>\n",
       "    </tr>\n",
       "  </thead>\n",
       "  <tbody>\n",
       "    <tr>\n",
       "      <th>Experience</th>\n",
       "      <td>1.000000</td>\n",
       "      <td>4.000000</td>\n",
       "      <td>3.000000</td>\n",
       "      <td>7</td>\n",
       "    </tr>\n",
       "    <tr>\n",
       "      <th>Education</th>\n",
       "      <td>0.250000</td>\n",
       "      <td>1.000000</td>\n",
       "      <td>0.333333</td>\n",
       "      <td>3</td>\n",
       "    </tr>\n",
       "    <tr>\n",
       "      <th>Charisma</th>\n",
       "      <td>0.333333</td>\n",
       "      <td>3.000000</td>\n",
       "      <td>1.000000</td>\n",
       "      <td>5</td>\n",
       "    </tr>\n",
       "    <tr>\n",
       "      <th>Age</th>\n",
       "      <td>0.142857</td>\n",
       "      <td>0.333333</td>\n",
       "      <td>0.200000</td>\n",
       "      <td>1</td>\n",
       "    </tr>\n",
       "  </tbody>\n",
       "</table>\n",
       "</div>"
      ],
      "text/plain": [
       "            Experience  Education  Charisma  Age\n",
       "Experience    1.000000   4.000000  3.000000    7\n",
       "Education     0.250000   1.000000  0.333333    3\n",
       "Charisma      0.333333   3.000000  1.000000    5\n",
       "Age           0.142857   0.333333  0.200000    1"
      ]
     },
     "execution_count": 63,
     "metadata": {},
     "output_type": "execute_result"
    }
   ],
   "source": [
    "pairwise_criteria"
   ]
  },
  {
   "cell_type": "markdown",
   "id": "d5b02c89-4d89-4b34-ac6d-879421b6a976",
   "metadata": {
    "id": "d5b02c89-4d89-4b34-ac6d-879421b6a976"
   },
   "source": [
    "Use the same order here:"
   ]
  },
  {
   "cell_type": "code",
   "execution_count": 65,
   "id": "ead9dd7f-2dfb-4dd0-8edc-b9ff93f8fcce",
   "metadata": {
    "id": "ead9dd7f-2dfb-4dd0-8edc-b9ff93f8fcce"
   },
   "outputs": [],
   "source": [
    "# follow the same order as the criteria\n",
    "data = [pairwise_experience.values.tolist(),\n",
    "        pairwise_education.values.tolist(),\n",
    "        pairwise_charisma.values.tolist(),\n",
    "        pairwise_age.values.tolist(),\n",
    "        pairwise_criteria.values.tolist()]"
   ]
  },
  {
   "cell_type": "markdown",
   "id": "81e7e73e-4ebc-4958-a4f6-31414c3a0e12",
   "metadata": {
    "id": "81e7e73e-4ebc-4958-a4f6-31414c3a0e12"
   },
   "source": [
    "Time to fit the AHP model:"
   ]
  },
  {
   "cell_type": "code",
   "execution_count": 67,
   "id": "ebca576b-58a1-4215-a4ec-068843954724",
   "metadata": {
    "id": "ebca576b-58a1-4215-a4ec-068843954724"
   },
   "outputs": [],
   "source": [
    "ahp = AHP()\n",
    "ahp.fit(data)"
   ]
  },
  {
   "cell_type": "markdown",
   "id": "bba95f32-6e88-4662-a570-8f3bcb67e6ee",
   "metadata": {
    "id": "bba95f32-6e88-4662-a570-8f3bcb67e6ee"
   },
   "source": [
    "You get the solution:"
   ]
  },
  {
   "cell_type": "code",
   "execution_count": 69,
   "id": "9ea4b19b-0975-4193-9034-d48fe7028c40",
   "metadata": {
    "id": "9ea4b19b-0975-4193-9034-d48fe7028c40"
   },
   "outputs": [
    {
     "data": {
      "text/html": [
       "<div>\n",
       "<style scoped>\n",
       "    .dataframe tbody tr th:only-of-type {\n",
       "        vertical-align: middle;\n",
       "    }\n",
       "\n",
       "    .dataframe tbody tr th {\n",
       "        vertical-align: top;\n",
       "    }\n",
       "\n",
       "    .dataframe thead th {\n",
       "        text-align: right;\n",
       "    }\n",
       "</style>\n",
       "<table border=\"1\" class=\"dataframe\">\n",
       "  <thead>\n",
       "    <tr style=\"text-align: right;\">\n",
       "      <th></th>\n",
       "      <th>Score</th>\n",
       "      <th>Ranking</th>\n",
       "    </tr>\n",
       "  </thead>\n",
       "  <tbody>\n",
       "    <tr>\n",
       "      <th>Tom</th>\n",
       "      <td>0.359067</td>\n",
       "      <td>2.0</td>\n",
       "    </tr>\n",
       "    <tr>\n",
       "      <th>Dick</th>\n",
       "      <td>0.488307</td>\n",
       "      <td>1.0</td>\n",
       "    </tr>\n",
       "    <tr>\n",
       "      <th>Harry</th>\n",
       "      <td>0.152626</td>\n",
       "      <td>3.0</td>\n",
       "    </tr>\n",
       "  </tbody>\n",
       "</table>\n",
       "</div>"
      ],
      "text/plain": [
       "          Score  Ranking\n",
       "Tom    0.359067      2.0\n",
       "Dick   0.488307      1.0\n",
       "Harry  0.152626      3.0"
      ]
     },
     "execution_count": 69,
     "metadata": {},
     "output_type": "execute_result"
    }
   ],
   "source": [
    "Solution=pd.DataFrame(index=pairwise_charisma.index)\n",
    "Solution['Score']=ahp.classificate()\n",
    "Solution['Ranking']=Solution.Score.rank(ascending=False)\n",
    "Solution"
   ]
  },
  {
   "cell_type": "markdown",
   "id": "b50bc5f6-7d5d-4a90-bf30-ec0cd2e9aaac",
   "metadata": {
    "id": "b50bc5f6-7d5d-4a90-bf30-ec0cd2e9aaac"
   },
   "source": [
    "<div class=\"alert-success\">\n",
    "\n",
    "<strong>Exercise: Choosing a country for a Master Program</strong>\n",
    "\n",
    "- Join 3 or 4 people from this course (or other friends if needed).\n",
    "- If you have the criteria: cost of living, language difficulty, possibilities to get a job in that country\n",
    "- If you have the alternatives: Brazil, Spain, USA, England, France\n",
    "- Create an AHP model and get the ranking.\n",
    "\n",
    "You can follow this [example](https://en.wikipedia.org/wiki/Analytic_hierarchy_process_%E2%80%93_leader_example).\n",
    "If you have a better idea, you can use it instead."
   ]
  },
  {
   "cell_type": "markdown",
   "id": "2530dacf-9f18-4bb7-afd2-6274562681f7",
   "metadata": {
    "id": "c6a73683-487e-4304-b465-c3d1c509999f"
   },
   "source": [
    "# Ejercicio ficticio"
   ]
  },
  {
   "cell_type": "markdown",
   "id": "4dfdc6a2-5b4d-401a-b4a0-538cf5e8535a",
   "metadata": {},
   "source": [
    "El ejercicio ficticio que he elaborada trata de un proceso de selección en donde tres candidatos son finalistas: Pedro, Miguel y Aldo. Estos candidatos estan luchando por quién ira de intercambio a otro país en base a tres criterios: nivel económico, nivel de lenguaje (inglés) y el promedio final en sus calificaciones."
   ]
  },
  {
   "cell_type": "code",
   "execution_count": 75,
   "id": "553f92d6-9677-4859-aa1c-008cf4aa40db",
   "metadata": {
    "tags": []
   },
   "outputs": [],
   "source": [
    "import pandas as pd\n",
    "\n",
    "pairwise_age_exercise=pd.read_excel(\"ahp_tables_exercise.xlsx\",sheet_name='age', index_col=0)\n",
    "pairwise_economy_exercise=pd.read_excel(\"ahp_tables_exercise.xlsx\",sheet_name='economy', index_col=0)\n",
    "pairwise_language_exercise=pd.read_excel(\"ahp_tables_exercise.xlsx\",sheet_name='language', index_col=0)\n",
    "pairwise_score_exercise=pd.read_excel(\"ahp_tables_exercise.xlsx\",sheet_name='score', index_col=0)\n",
    "pairwise_criteria_exercise=pd.read_excel(\"ahp_tables_exercise.xlsx\",sheet_name='criteria', index_col=0)"
   ]
  },
  {
   "cell_type": "code",
   "execution_count": 77,
   "id": "58d2da0c-8a11-49fe-a7b6-d398da6d3410",
   "metadata": {
    "tags": []
   },
   "outputs": [
    {
     "data": {
      "text/html": [
       "<div>\n",
       "<style scoped>\n",
       "    .dataframe tbody tr th:only-of-type {\n",
       "        vertical-align: middle;\n",
       "    }\n",
       "\n",
       "    .dataframe tbody tr th {\n",
       "        vertical-align: top;\n",
       "    }\n",
       "\n",
       "    .dataframe thead th {\n",
       "        text-align: right;\n",
       "    }\n",
       "</style>\n",
       "<table border=\"1\" class=\"dataframe\">\n",
       "  <thead>\n",
       "    <tr style=\"text-align: right;\">\n",
       "      <th></th>\n",
       "      <th>Economy</th>\n",
       "      <th>Language</th>\n",
       "      <th>Score</th>\n",
       "      <th>Age</th>\n",
       "    </tr>\n",
       "  </thead>\n",
       "  <tbody>\n",
       "    <tr>\n",
       "      <th>Economy</th>\n",
       "      <td>1.000000</td>\n",
       "      <td>7.000000</td>\n",
       "      <td>3.000000</td>\n",
       "      <td>8</td>\n",
       "    </tr>\n",
       "    <tr>\n",
       "      <th>Language</th>\n",
       "      <td>0.142857</td>\n",
       "      <td>1.000000</td>\n",
       "      <td>0.333333</td>\n",
       "      <td>3</td>\n",
       "    </tr>\n",
       "    <tr>\n",
       "      <th>Score</th>\n",
       "      <td>0.333333</td>\n",
       "      <td>3.000000</td>\n",
       "      <td>1.000000</td>\n",
       "      <td>5</td>\n",
       "    </tr>\n",
       "    <tr>\n",
       "      <th>Age</th>\n",
       "      <td>0.125000</td>\n",
       "      <td>0.333333</td>\n",
       "      <td>0.200000</td>\n",
       "      <td>1</td>\n",
       "    </tr>\n",
       "  </tbody>\n",
       "</table>\n",
       "</div>"
      ],
      "text/plain": [
       "           Economy  Language     Score  Age\n",
       "Economy   1.000000  7.000000  3.000000    8\n",
       "Language  0.142857  1.000000  0.333333    3\n",
       "Score     0.333333  3.000000  1.000000    5\n",
       "Age       0.125000  0.333333  0.200000    1"
      ]
     },
     "execution_count": 77,
     "metadata": {},
     "output_type": "execute_result"
    }
   ],
   "source": [
    "pairwise_criteria_exercise"
   ]
  },
  {
   "cell_type": "code",
   "execution_count": 79,
   "id": "81304d0c-fd32-40b7-86af-3b08109e06ef",
   "metadata": {
    "tags": []
   },
   "outputs": [],
   "source": [
    "data_exercise = [pairwise_economy_exercise.values.tolist(),\n",
    "        pairwise_language_exercise.values.tolist(),\n",
    "        pairwise_score_exercise.values.tolist(),\n",
    "        pairwise_age_exercise.values.tolist(),\n",
    "        pairwise_criteria_exercise.values.tolist()]"
   ]
  },
  {
   "cell_type": "code",
   "execution_count": 97,
   "id": "e633754b-5aef-43da-b9aa-15b9c3121a0a",
   "metadata": {
    "tags": []
   },
   "outputs": [],
   "source": [
    "ahp = AHP()\n",
    "ahp.fit(data_exercise)"
   ]
  },
  {
   "cell_type": "code",
   "execution_count": 99,
   "id": "0054f794-aaaf-4696-b7a7-e7d28b8d1393",
   "metadata": {
    "tags": []
   },
   "outputs": [
    {
     "data": {
      "text/html": [
       "<div>\n",
       "<style scoped>\n",
       "    .dataframe tbody tr th:only-of-type {\n",
       "        vertical-align: middle;\n",
       "    }\n",
       "\n",
       "    .dataframe tbody tr th {\n",
       "        vertical-align: top;\n",
       "    }\n",
       "\n",
       "    .dataframe thead th {\n",
       "        text-align: right;\n",
       "    }\n",
       "</style>\n",
       "<table border=\"1\" class=\"dataframe\">\n",
       "  <thead>\n",
       "    <tr style=\"text-align: right;\">\n",
       "      <th></th>\n",
       "      <th>Score</th>\n",
       "      <th>Ranking</th>\n",
       "    </tr>\n",
       "  </thead>\n",
       "  <tbody>\n",
       "    <tr>\n",
       "      <th>Pedro</th>\n",
       "      <td>0.273522</td>\n",
       "      <td>2.0</td>\n",
       "    </tr>\n",
       "    <tr>\n",
       "      <th>Miguel</th>\n",
       "      <td>0.483984</td>\n",
       "      <td>1.0</td>\n",
       "    </tr>\n",
       "    <tr>\n",
       "      <th>Aldo</th>\n",
       "      <td>0.242494</td>\n",
       "      <td>3.0</td>\n",
       "    </tr>\n",
       "  </tbody>\n",
       "</table>\n",
       "</div>"
      ],
      "text/plain": [
       "           Score  Ranking\n",
       "Pedro   0.273522      2.0\n",
       "Miguel  0.483984      1.0\n",
       "Aldo    0.242494      3.0"
      ]
     },
     "execution_count": 99,
     "metadata": {},
     "output_type": "execute_result"
    }
   ],
   "source": [
    "Solution_exercise=pd.DataFrame(index=pairwise_economy_exercise.index)\n",
    "Solution_exercise['Score']=ahp.classificate()\n",
    "Solution_exercise['Ranking']=Solution_exercise.Score.rank(ascending=False)\n",
    "Solution_exercise"
   ]
  }
 ],
 "metadata": {
  "colab": {
   "provenance": []
  },
  "kernelspec": {
   "display_name": "Python 3 (ipykernel)",
   "language": "python",
   "name": "python3"
  },
  "language_info": {
   "codemirror_mode": {
    "name": "ipython",
    "version": 3
   },
   "file_extension": ".py",
   "mimetype": "text/x-python",
   "name": "python",
   "nbconvert_exporter": "python",
   "pygments_lexer": "ipython3",
   "version": "3.11.7"
  }
 },
 "nbformat": 4,
 "nbformat_minor": 5
}
